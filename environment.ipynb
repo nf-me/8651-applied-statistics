{
 "cells": [
  {
   "cell_type": "markdown",
   "metadata": {},
   "source": [
    "\n",
    "# environment.ipynb"
   ]
  },
  {
   "cell_type": "code",
   "execution_count": 2,
   "metadata": {},
   "outputs": [
    {
     "name": "stdout",
     "output_type": "stream",
     "text": [
      "Python version: 3.12.7 | packaged by Anaconda, Inc. | (main, Oct  4 2024, 13:17:27) [MSC v.1929 64 bit (AMD64)]\n",
      "pandas version: 2.2.2\n",
      "numpy version: 1.26.4\n",
      "matplotlib version: 3.9.2\n",
      "seaborn version: 0.13.2\n",
      "scipy version: 1.13.1\n",
      "statsmodels version: 0.14.2\n",
      "\n",
      "Environment check complete. Libraries for 'project.ipynb' and 'tasks.ipynb' are correctly imported.\n"
     ]
    }
   ],
   "source": [
    "\n",
    "# 1. Environment Setup Verification\n",
    "\n",
    "# Uncomment in a terminal if using pip:\n",
    "# !pip freeze\n",
    "\n",
    "# Uncomment in a terminal if using conda:\n",
    "# !conda list\n",
    "\n",
    "# 2. Import Checks & Version Info\n",
    "\n",
    "import sys\n",
    "print(\"Python version:\", sys.version)\n",
    "\n",
    "import pandas as pd\n",
    "print(\"pandas version:\", pd.__version__)\n",
    "\n",
    "import numpy as np\n",
    "print(\"numpy version:\", np.__version__)\n",
    "\n",
    "import matplotlib\n",
    "import matplotlib.pyplot as plt\n",
    "print(\"matplotlib version:\", matplotlib.__version__)\n",
    "\n",
    "import seaborn as sns\n",
    "print(\"seaborn version:\", sns.__version__)\n",
    "\n",
    "import scipy\n",
    "from scipy.stats import ttest_ind, ttest_rel, f_oneway, shapiro, levene\n",
    "print(\"scipy version:\", scipy.__version__)\n",
    "\n",
    "import statsmodels\n",
    "from statsmodels.stats.multicomp import pairwise_tukeyhsd\n",
    "print(\"statsmodels version:\", statsmodels.__version__)\n",
    "\n",
    "# 3. Example Conda Environment Creation\n",
    "\"\"\"\n",
    "# Example commands to create and activate a conda environment named 'stats-env':\n",
    "conda create --name stats-env python=3.9 -y\n",
    "conda activate stats-env\n",
    "pip install pandas numpy matplotlib seaborn scipy statsmodels\n",
    "\"\"\"\n",
    "\n",
    "# 4. Confirm the environment for PlantGrowth project & tasks\n",
    "print(\"\\nEnvironment check complete. Libraries for 'project.ipynb' and 'tasks.ipynb' are correctly imported.\")\n"
   ]
  }
 ],
 "metadata": {
  "kernelspec": {
   "display_name": "Python 3",
   "language": "python",
   "name": "python3"
  },
  "language_info": {
   "codemirror_mode": {
    "name": "ipython",
    "version": 3
   },
   "file_extension": ".py",
   "mimetype": "text/x-python",
   "name": "python",
   "nbconvert_exporter": "python",
   "pygments_lexer": "ipython3",
   "version": "3.12.7"
  }
 },
 "nbformat": 4,
 "nbformat_minor": 2
}
