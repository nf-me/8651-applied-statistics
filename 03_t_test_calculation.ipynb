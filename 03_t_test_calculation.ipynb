{
 "cells": [
  {
   "cell_type": "markdown",
   "id": "f4997d50",
   "metadata": {},
   "source": [
    "##  Tast 3: t-Test Calculation for a Before-and-After Study\n",
    "\n",
    "### Problem Description\n",
    "We have resting heart rates for **10 patients**, measured **before** and **after** a two-week exercise programme. The data are:\n",
    "\n",
    "| Patient ID | 0  | 1  | 2  | 3  | 4  | 5  | 6  | 7  | 8  | 9  |\n",
    "|------------|----|----|----|----|----|----|----|----|----|----|\n",
    "| **Before** | 63 | 68 | 70 | 64 | 74 | 67 | 70 | 57 | 66 | 65 |\n",
    "| **After**  | 64 | 64 | 68 | 64 | 73 | 70 | 72 | 54 | 61 | 63 |\n",
    "\n",
    "How we will approach the task:\n",
    "1. **Calculate the t-statistic** manually based on this dataset.\n",
    "2. **Compare** it to the value given by `scipy.stats`.\n",
    "3. **Explain** my work and reference any sources used."
   ]
  },
  {
   "cell_type": "code",
   "execution_count": 10,
   "id": "6e7cc867",
   "metadata": {},
   "outputs": [],
   "source": [
    "import numpy as np\n",
    "from scipy.stats import ttest_rel"
   ]
  },
  {
   "cell_type": "code",
   "execution_count": 11,
   "id": "85425743",
   "metadata": {},
   "outputs": [],
   "source": [
    "# 1. Input the data\n",
    "before = np.array([63, 68, 70, 64, 74, 67, 70, 57, 66, 65])\n",
    "after  = np.array([64, 64, 68, 64, 73, 70, 72, 54, 61, 63])"
   ]
  },
  {
   "cell_type": "code",
   "execution_count": 12,
   "id": "f82e5ccc",
   "metadata": {},
   "outputs": [],
   "source": [
    "# 2. Manual Calculation of Paired t-test\n",
    "\n",
    "# 2.1 Compute the differences (After - Before)\n",
    "diff = after - before\n",
    "\n",
    "# 2.2 Sample size\n",
    "n = len(diff)\n",
    "\n",
    "# 2.3 Mean of differences\n",
    "mean_diff = np.mean(diff)\n",
    "\n",
    "# 2.4 Standard deviation of differences (sample standard deviation)\n",
    "std_diff = np.std(diff, ddof=1)  # ddof=1 for sample-based formula\n",
    "\n",
    "# 2.5 Compute the t-statistic\n",
    "#    t = (mean_diff - 0) / (std_diff / sqrt(n))\n",
    "#    The (mean_diff - 0) is because we're testing if the mean difference = 0\n",
    "t_stat_manual = mean_diff / (std_diff / np.sqrt(n))"
   ]
  },
  {
   "cell_type": "code",
   "execution_count": 14,
   "id": "bb3e6770",
   "metadata": {},
   "outputs": [],
   "source": [
    "# 3. Compare with scipy.stats ttest_rel\n",
    "#    ttest_rel(x, y) performs a paired t-test on arrays x and y\n",
    "t_stat_scipy, p_value_scipy = ttest_rel(before, after)"
   ]
  },
  {
   "cell_type": "code",
   "execution_count": 15,
   "id": "1f4bcbde",
   "metadata": {},
   "outputs": [
    {
     "name": "stdout",
     "output_type": "stream",
     "text": [
      "---- Manual Calculation ----\n",
      "Differences (After - Before): [ 1 -4 -2  0 -1  3  2 -3 -5 -2]\n",
      "Mean of Differences: -1.100\n",
      "Std Dev of Differences: 2.601\n",
      "Paired t-statistic (manual): -1.337\n",
      "\n",
      "---- scipy.stats.ttest_rel ----\n",
      "Paired t-statistic: 1.337\n",
      "p-value:            0.214\n"
     ]
    }
   ],
   "source": [
    "# 4. Print results\n",
    "print(\"---- Manual Calculation ----\")\n",
    "print(f\"Differences (After - Before): {diff}\")\n",
    "print(f\"Mean of Differences: {mean_diff:.3f}\")\n",
    "print(f\"Std Dev of Differences: {std_diff:.3f}\")\n",
    "print(f\"Paired t-statistic (manual): {t_stat_manual:.3f}\")\n",
    "\n",
    "print(\"\\n---- scipy.stats.ttest_rel ----\")\n",
    "print(f\"Paired t-statistic: {t_stat_scipy:.3f}\")\n",
    "print(f\"p-value:            {p_value_scipy:.3f}\")"
   ]
  },
  {
   "cell_type": "markdown",
   "id": "9d413b2f",
   "metadata": {},
   "source": [
    "### Discussion\n",
    "\n",
    "\n",
    "- **Differences Between Before and After**  \n",
    "  Each patient acts as their own control, so we compute the difference in heart rate for each individual. This approach reduces individual variability unrelated to the exercise programme.\n",
    "\n",
    "\n",
    "- **Mean Difference and Standard Deviation**  \n",
    "  - *Mean Difference*: Reflects the average change in resting heart rate across all patients.  \n",
    "  \n",
    "  - *Standard Deviation of Difference*: Measures how much individual changes vary around that mean difference.\n",
    "\n",
    "\n",
    "- **Paired t-Test**  \n",
    "  Since it’s the **same** group measured twice (before and after), we use a **paired t-test** formula: where is the number of participants. The null hypothesis states there is **no difference** in the mean resting heart rate before and after the programme.\n",
    "\n",
    "\n",
    "- **Comparing Manual and `scipy.stats` Results**  \n",
    "  - By computing the t-statistic manually, we verify our understanding of the underlying formula.  \n",
    "  - Using `ttest_rel(before, after)` in `scipy.stats` should yield a closely matching t-statistic. Minor discrepancies can arise from floating-point arithmetic."
   ]
  },
  {
   "cell_type": "markdown",
   "id": "0dd30aab",
   "metadata": {},
   "source": [
    "### Conclusion\n",
    "\n",
    "The manual calculation of the paired t-statistic matches closely with the result from `scipy.stats.ttest_rel`, confirming both the correctness of our approach and Python’s built-in function. Interpreting the t-statistic and p-value helps us decide whether the exercise programme had a **statistically significant** impact on resting heart rates."
   ]
  },
  {
   "cell_type": "markdown",
   "id": "effe7976",
   "metadata": {},
   "source": [
    "### References\n",
    "\n",
    "1. [Scipy Paired t-test Documentation](https://docs.scipy.org/doc/scipy/reference/generated/scipy.stats.ttest_rel.html)  \n",
    "2. OpenStax (n.d.). *Introductory Statistics.* Retrieved from [https://openstax.org/details/books/introductory-statistics](https://openstax.org/details/books/introductory-statistics)  \n"
   ]
  }
 ],
 "metadata": {
  "kernelspec": {
   "display_name": "Python 3 (ipykernel)",
   "language": "python",
   "name": "python3"
  },
  "language_info": {
   "codemirror_mode": {
    "name": "ipython",
    "version": 3
   },
   "file_extension": ".py",
   "mimetype": "text/x-python",
   "name": "python",
   "nbconvert_exporter": "python",
   "pygments_lexer": "ipython3",
   "version": "3.9.13"
  }
 },
 "nbformat": 4,
 "nbformat_minor": 5
}
