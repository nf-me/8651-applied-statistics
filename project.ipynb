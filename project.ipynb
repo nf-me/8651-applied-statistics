{
 "cells": [
  {
   "cell_type": "markdown",
   "id": "6cff7907",
   "metadata": {},
   "source": [
    "# Project\n",
    "## 1. Introduction\n",
    "\n",
    "In this project, we will analyse the **PlantGrowth** dataset using both t-tests and ANOVA.\n",
    "The dataset contains measurements of plant `weight` across three different treatment groups:\n",
    "\n",
    "- **ctrl** (control group)\n",
    "- **trt1** (treatment group 1)\n",
    "- **trt2** (treatment group 2)\n",
    "\n",
    "We will:\n",
    "\n",
    "1. Describe the dataset\n",
    "2. Explain what a t-test is, its assumptions, and how it works\n",
    "3. Perform a t-test between the two treatment groups `trt1` and `trt2`\n",
    "4. Perform an ANOVA across the three groups `ctrl`, `trt1`, and `trt2`\n",
    "5. Explain why ANOVA is more appropriate than multiple t-tests when comparing more than two groups\n",
    "\n",
    "We will also provide relevant plots and references. All analysis will be completed in Python with frequent commits to this repository to demonstrate steady progress."
   ]
  }
 ],
 "metadata": {
  "kernelspec": {
   "display_name": "Python 3 (ipykernel)",
   "language": "python",
   "name": "python3"
  },
  "language_info": {
   "codemirror_mode": {
    "name": "ipython",
    "version": 3
   },
   "file_extension": ".py",
   "mimetype": "text/x-python",
   "name": "python",
   "nbconvert_exporter": "python",
   "pygments_lexer": "ipython3",
   "version": "3.9.13"
  }
 },
 "nbformat": 4,
 "nbformat_minor": 5
}
