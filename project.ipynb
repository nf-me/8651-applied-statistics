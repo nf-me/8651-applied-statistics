{
 "cells": [
  {
   "cell_type": "markdown",
   "id": "fa335c54",
   "metadata": {},
   "source": [
    "# PlantGrowth\n",
    "\n",
    "## 1. Introduction\n",
    "\n",
    "In this project, we analyse the **PlantGrowth** dataset. It contains plant weights for three groups:\n",
    "\n",
    "- **ctrl** (control)  \n",
    "- **trt1** (treatment 1)  \n",
    "- **trt2** (treatment 2)\n",
    "\n",
    "We want to:\n",
    "1. Describe the dataset\n",
    "2. Explain t-tests and perform a t-test between `trt1` and `trt2`\n",
    "3. Explain and perform ANOVA across `ctrl`, `trt1`, and `trt2`\n",
    "4. Justify why ANOVA is more appropriate than multiple t-tests for three or more groups\n",
    "\n",
    "We will document each step in Markdown cells and keep the code organised.\n",
    "\n",
    "---\n"
   ]
  },
  {
   "cell_type": "code",
   "execution_count": 51,
   "id": "6b77a194",
   "metadata": {},
   "outputs": [
    {
     "data": {
      "text/html": [
       "<div>\n",
       "<style scoped>\n",
       "    .dataframe tbody tr th:only-of-type {\n",
       "        vertical-align: middle;\n",
       "    }\n",
       "\n",
       "    .dataframe tbody tr th {\n",
       "        vertical-align: top;\n",
       "    }\n",
       "\n",
       "    .dataframe thead th {\n",
       "        text-align: right;\n",
       "    }\n",
       "</style>\n",
       "<table border=\"1\" class=\"dataframe\">\n",
       "  <thead>\n",
       "    <tr style=\"text-align: right;\">\n",
       "      <th></th>\n",
       "      <th>rownames</th>\n",
       "      <th>weight</th>\n",
       "      <th>group</th>\n",
       "    </tr>\n",
       "  </thead>\n",
       "  <tbody>\n",
       "    <tr>\n",
       "      <th>0</th>\n",
       "      <td>1</td>\n",
       "      <td>4.17</td>\n",
       "      <td>ctrl</td>\n",
       "    </tr>\n",
       "    <tr>\n",
       "      <th>1</th>\n",
       "      <td>2</td>\n",
       "      <td>5.58</td>\n",
       "      <td>ctrl</td>\n",
       "    </tr>\n",
       "    <tr>\n",
       "      <th>2</th>\n",
       "      <td>3</td>\n",
       "      <td>5.18</td>\n",
       "      <td>ctrl</td>\n",
       "    </tr>\n",
       "    <tr>\n",
       "      <th>3</th>\n",
       "      <td>4</td>\n",
       "      <td>6.11</td>\n",
       "      <td>ctrl</td>\n",
       "    </tr>\n",
       "    <tr>\n",
       "      <th>4</th>\n",
       "      <td>5</td>\n",
       "      <td>4.50</td>\n",
       "      <td>ctrl</td>\n",
       "    </tr>\n",
       "  </tbody>\n",
       "</table>\n",
       "</div>"
      ],
      "text/plain": [
       "   rownames  weight group\n",
       "0         1    4.17  ctrl\n",
       "1         2    5.58  ctrl\n",
       "2         3    5.18  ctrl\n",
       "3         4    6.11  ctrl\n",
       "4         5    4.50  ctrl"
      ]
     },
     "metadata": {},
     "output_type": "display_data"
    },
    {
     "name": "stdout",
     "output_type": "stream",
     "text": [
      "\n",
      "Basic Summary by Group:\n",
      "       count   mean    std   min    25%    50%    75%   max\n",
      "group                                                      \n",
      "ctrl    10.0  5.032  0.583  4.17  4.550  5.155  5.292  6.11\n",
      "trt1    10.0  4.661  0.794  3.59  4.208  4.550  4.870  6.03\n",
      "trt2    10.0  5.526  0.443  4.92  5.268  5.435  5.735  6.31\n"
     ]
    }
   ],
   "source": [
    "# 2. Data Import & Setup\n",
    "\n",
    "import pandas as pd\n",
    "import numpy as np\n",
    "import matplotlib.pyplot as plt\n",
    "import seaborn as sns\n",
    "from scipy.stats import ttest_ind, f_oneway, shapiro, levene\n",
    "from statsmodels.stats.multicomp import pairwise_tukeyhsd\n",
    "\n",
    "# Path to data\n",
    "url = \"https://raw.githubusercontent.com/nf-me/8651-applied-statistics/refs/heads/main/data/PlantGrowth.csv\"\n",
    "df = pd.read_csv(url)\n",
    "\n",
    "# Group is categorical\n",
    "df['group'] = df['group'].astype('category')\n",
    "\n",
    "# review the data\n",
    "display(df.head())\n",
    "\n",
    "# Basic descriptive stats\n",
    "print(\"\\nBasic Summary by Group:\")\n",
    "print(df.groupby('group')['weight'].describe().round(3))\n"
   ]
  },
  {
   "cell_type": "markdown",
   "id": "1f59e738",
   "metadata": {},
   "source": [
    "## Description of Dataset\n",
    "\n",
    "Each row represents a single plant's weight and the treatment group it belongs to.  \n",
    "- **Observations**: Typically 30 (10 plants per group).  \n",
    "- **Variables**:  \n",
    "  - `group`: Categorical (ctrl, trt1, trt2)  \n",
    "  - `weight`: Numeric, representing plant weight.\n",
    "\n",
    "---\n"
   ]
  },
  {
   "cell_type": "code",
   "execution_count": null,
   "id": "2d3cfefa",
   "metadata": {},
   "outputs": [],
   "source": []
  }
 ],
 "metadata": {
  "kernelspec": {
   "display_name": "Python 3 (ipykernel)",
   "language": "python",
   "name": "python3"
  },
  "language_info": {
   "codemirror_mode": {
    "name": "ipython",
    "version": 3
   },
   "file_extension": ".py",
   "mimetype": "text/x-python",
   "name": "python",
   "nbconvert_exporter": "python",
   "pygments_lexer": "ipython3",
   "version": "3.9.13"
  }
 },
 "nbformat": 4,
 "nbformat_minor": 5
}
