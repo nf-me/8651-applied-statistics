{
 "cells": [
  {
   "cell_type": "markdown",
   "id": "cee4de32",
   "metadata": {},
   "source": [
    "# PlantGrowth\n",
    "\n",
    "## 1. Introduction\n",
    "\n",
    "In this project, we analyse the **PlantGrowth** dataset. It contains plant weights for three groups:\n",
    "\n",
    "- **ctrl** (control)  \n",
    "- **trt1** (treatment 1)  \n",
    "- **trt2** (treatment 2)\n",
    "\n",
    "We want to:\n",
    "1. Describe the dataset\n",
    "2. Explain t-tests and perform a t-test between `trt1` and `trt2`\n",
    "3. Explain and perform ANOVA across `ctrl`, `trt1`, and `trt2`\n",
    "4. Justify why ANOVA is more appropriate than multiple t-tests for three or more groups\n",
    "\n",
    "We will document each step in Markdown cells and keep the code organised.\n",
    "\n",
    "---\n"
   ]
  },
  {
   "cell_type": "markdown",
   "id": "b74ff683",
   "metadata": {},
   "source": [
    "# 2. Data Import & Setup\n"
   ]
  },
  {
   "cell_type": "code",
   "execution_count": 2,
   "id": "2245875b",
   "metadata": {},
   "outputs": [
    {
     "data": {
      "text/html": [
       "<div>\n",
       "<style scoped>\n",
       "    .dataframe tbody tr th:only-of-type {\n",
       "        vertical-align: middle;\n",
       "    }\n",
       "\n",
       "    .dataframe tbody tr th {\n",
       "        vertical-align: top;\n",
       "    }\n",
       "\n",
       "    .dataframe thead th {\n",
       "        text-align: right;\n",
       "    }\n",
       "</style>\n",
       "<table border=\"1\" class=\"dataframe\">\n",
       "  <thead>\n",
       "    <tr style=\"text-align: right;\">\n",
       "      <th></th>\n",
       "      <th>rownames</th>\n",
       "      <th>weight</th>\n",
       "      <th>group</th>\n",
       "    </tr>\n",
       "  </thead>\n",
       "  <tbody>\n",
       "    <tr>\n",
       "      <th>0</th>\n",
       "      <td>1</td>\n",
       "      <td>4.17</td>\n",
       "      <td>ctrl</td>\n",
       "    </tr>\n",
       "    <tr>\n",
       "      <th>1</th>\n",
       "      <td>2</td>\n",
       "      <td>5.58</td>\n",
       "      <td>ctrl</td>\n",
       "    </tr>\n",
       "    <tr>\n",
       "      <th>2</th>\n",
       "      <td>3</td>\n",
       "      <td>5.18</td>\n",
       "      <td>ctrl</td>\n",
       "    </tr>\n",
       "    <tr>\n",
       "      <th>3</th>\n",
       "      <td>4</td>\n",
       "      <td>6.11</td>\n",
       "      <td>ctrl</td>\n",
       "    </tr>\n",
       "    <tr>\n",
       "      <th>4</th>\n",
       "      <td>5</td>\n",
       "      <td>4.50</td>\n",
       "      <td>ctrl</td>\n",
       "    </tr>\n",
       "  </tbody>\n",
       "</table>\n",
       "</div>"
      ],
      "text/plain": [
       "   rownames  weight group\n",
       "0         1    4.17  ctrl\n",
       "1         2    5.58  ctrl\n",
       "2         3    5.18  ctrl\n",
       "3         4    6.11  ctrl\n",
       "4         5    4.50  ctrl"
      ]
     },
     "metadata": {},
     "output_type": "display_data"
    },
    {
     "name": "stdout",
     "output_type": "stream",
     "text": [
      "\n",
      "Basic Summary by Group:\n",
      "       count   mean    std   min    25%    50%    75%   max\n",
      "group                                                      \n",
      "ctrl    10.0  5.032  0.583  4.17  4.550  5.155  5.292  6.11\n",
      "trt1    10.0  4.661  0.794  3.59  4.208  4.550  4.870  6.03\n",
      "trt2    10.0  5.526  0.443  4.92  5.268  5.435  5.735  6.31\n"
     ]
    },
    {
     "name": "stderr",
     "output_type": "stream",
     "text": [
      "C:\\Users\\neilf\\AppData\\Local\\Temp\\ipykernel_4268\\3452157924.py:20: FutureWarning: The default of observed=False is deprecated and will be changed to True in a future version of pandas. Pass observed=False to retain current behavior or observed=True to adopt the future default and silence this warning.\n",
      "  print(df.groupby('group')['weight'].describe().round(3))\n"
     ]
    }
   ],
   "source": [
    "import pandas as pd\n",
    "import numpy as np\n",
    "import matplotlib.pyplot as plt\n",
    "import seaborn as sns\n",
    "from scipy.stats import ttest_ind, f_oneway, shapiro, levene\n",
    "from statsmodels.stats.multicomp import pairwise_tukeyhsd\n",
    "\n",
    "# Path to data\n",
    "url = \"https://raw.githubusercontent.com/nf-me/8651-applied-statistics/refs/heads/main/data/PlantGrowth.csv\"\n",
    "df = pd.read_csv(url)\n",
    "\n",
    "# Group is categorical\n",
    "df['group'] = df['group'].astype('category')\n",
    "\n",
    "# review the data\n",
    "display(df.head())\n",
    "\n",
    "# Basic descriptive stats\n",
    "print(\"\\nBasic Summary by Group:\")\n",
    "print(df.groupby('group')['weight'].describe().round(3))\n"
   ]
  },
  {
   "cell_type": "markdown",
   "id": "11edccff",
   "metadata": {},
   "source": [
    "# 3. T-test Explanation & Code\n",
    "\n",
    "A t-test compares the means of two groups to see if they differ significantly.\n",
    "Key assumptions:\n",
    "1. Observations in each group are independent.\n",
    "2. The data in each group is (roughly) normally distributed.\n",
    "3. The variances of the two groups are equal (for the standard independent t-test).\n",
    "\n",
    "We will check normality (Shapiro–Wilk) and variance equality (Levene's test)\n",
    "before performing the t-test between 'trt1' and 'trt2'.\n",
    "\"\"\"\n"
   ]
  },
  {
   "cell_type": "markdown",
   "id": "d3b0fbba",
   "metadata": {},
   "source": [
    "## Description of Dataset\n",
    "\n",
    "Each row represents a single plant's weight and the treatment group it belongs to.  \n",
    "- **Observations**: Typically 30 (10 plants per group).  \n",
    "- **Variables**:  \n",
    "  - `group`: Categorical (ctrl, trt1, trt2)  \n",
    "  - `weight`: Numeric, representing plant weight.\n",
    "\n",
    "---\n"
   ]
  },
  {
   "cell_type": "code",
   "execution_count": 2,
   "id": "8665ff50",
   "metadata": {},
   "outputs": [
    {
     "name": "stdout",
     "output_type": "stream",
     "text": [
      "Shapiro–Wilk (trt1): p=0.4519, (trt2): p=0.5643\n",
      "Levene's test: p=0.1641\n",
      "\n",
      "T-test (trt1 vs. trt2): t=-3.010, p=0.0075\n"
     ]
    }
   ],
   "source": [
    "# Separate the two treatment groups\n",
    "trt1 = df.loc[df['group'] == 'trt1', 'weight']\n",
    "trt2 = df.loc[df['group'] == 'trt2', 'weight']\n",
    "\n",
    "# Check normality\n",
    "w1, p1 = shapiro(trt1)\n",
    "w2, p2 = shapiro(trt2)\n",
    "print(f\"Shapiro–Wilk (trt1): p={p1:.4f}, (trt2): p={p2:.4f}\")\n",
    "\n",
    "# Check variance homogeneity (Levene's)\n",
    "lev_stat, lev_p = levene(trt1, trt2)\n",
    "print(f\"Levene's test: p={lev_p:.4f}\")\n",
    "\n",
    "# Perform t-test\n",
    "t_stat, t_p = ttest_ind(trt1, trt2, equal_var=True)\n",
    "print(f\"\\nT-test (trt1 vs. trt2): t={t_stat:.3f}, p={t_p:.4f}\")\n"
   ]
  },
  {
   "cell_type": "markdown",
   "id": "4db72af5-5a2a-4105-a3af-d1d2cbf7e8f7",
   "metadata": {},
   "source": [
    "**Interpretation:**  \n",
    "- If `p < 0.05`, we usually conclude that `trt1` and `trt2` have statistically different mean weights.  \n",
    "- The normality and variance checks help confirm the suitability of a standard t-test.\n",
    "\n",
    "---\n",
    "\n",
    "## 4. ANOVA Explanation\n",
    "An **Analysis of Variance (ANOVA)** compares the means of three (or more) groups simultaneously.  \n",
    "\n",
    "**Key assumptions:**  \n",
    "1. Independence of observations  \n",
    "2. Each group is (approximately) normally distributed  \n",
    "3. Homogeneity of variances across groups  \n",
    "\n",
    "We prefer ANOVA over multiple t-tests to avoid inflating the Type I error rate.\n",
    "If we run many t-tests, each with a 5% chance of a false positive, overall error can become much higher. ANOVA controls this by performing *one* overall test first.\n",
    "\n",
    "---\n"
   ]
  },
  {
   "cell_type": "markdown",
   "id": "a80c6a62",
   "metadata": {},
   "source": [
    "# 5. ANOVA: ctrl, trt1, and trt2\n"
   ]
  },
  {
   "cell_type": "code",
   "execution_count": 3,
   "id": "a3badc18-be3b-4cc0-8ddd-5179c524a652",
   "metadata": {},
   "outputs": [
    {
     "name": "stdout",
     "output_type": "stream",
     "text": [
      "Shapiro p-values => ctrl: 0.7475, trt1: 0.4519, trt2: 0.5643\n",
      "Levene's test (all 3 groups): p=0.3412\n",
      "\n",
      "ANOVA (ctrl, trt1, trt2): F=4.846, p=0.0159\n",
      "\n",
      "Post-hoc (Tukey HSD):\n",
      "Multiple Comparison of Means - Tukey HSD, FWER=0.05\n",
      "===================================================\n",
      "group1 group2 meandiff p-adj   lower  upper  reject\n",
      "---------------------------------------------------\n",
      "  ctrl   trt1   -0.371 0.3909 -1.0622 0.3202  False\n",
      "  ctrl   trt2    0.494  0.198 -0.1972 1.1852  False\n",
      "  trt1   trt2    0.865  0.012  0.1738 1.5562   True\n",
      "---------------------------------------------------\n"
     ]
    },
    {
     "data": {
      "image/png": "[encoded data removed]",
      "text/plain": [
       "<Figure size 640x480 with 1 Axes>"
      ]
     },
     "metadata": {},
     "output_type": "display_data"
    }
   ],
   "source": [
    "# Quick normality checks for all groups\n",
    "ctrl = df.loc[df['group'] == 'ctrl', 'weight']\n",
    "shapiro_ctrl = shapiro(ctrl)\n",
    "shapiro_trt1 = shapiro(trt1)\n",
    "shapiro_trt2 = shapiro(trt2)\n",
    "print(f\"Shapiro p-values => ctrl: {shapiro_ctrl[1]:.4f}, trt1: {shapiro_trt1[1]:.4f}, trt2: {shapiro_trt2[1]:.4f}\")\n",
    "\n",
    "# Levene's for all 3\n",
    "lev_stat_3, lev_p_3 = levene(ctrl, trt1, trt2)\n",
    "print(f\"Levene's test (all 3 groups): p={lev_p_3:.4f}\")\n",
    "\n",
    "# One-way ANOVA\n",
    "f_stat, f_p = f_oneway(ctrl, trt1, trt2)\n",
    "print(f\"\\nANOVA (ctrl, trt1, trt2): F={f_stat:.3f}, p={f_p:.4f}\")\n",
    "\n",
    "# If significant, we can do a Tukey HSD post-hoc to see which groups differ:\n",
    "if f_p < 0.05:\n",
    "    print(\"\\nPost-hoc (Tukey HSD):\")\n",
    "    tukey = pairwise_tukeyhsd(df['weight'], df['group'], alpha=0.05)\n",
    "    print(tukey)\n",
    "\n",
    "# Simple boxplot for visual\n",
    "sns.boxplot(data=df, x='group', y='weight')\n",
    "plt.title(\"Boxplot by Group\")\n",
    "plt.show()\n"
   ]
  },
  {
   "cell_type": "markdown",
   "id": "711cb776-038d-4e55-82f6-e4d6f430b54c",
   "metadata": {},
   "source": [
    "## 6. Why ANOVA Rather Than Multiple T-tests?\n",
    "\n",
    "When we have three groups (like `ctrl`, `trt1`, `trt2`), comparing them pairwise with multiple t-tests (ctrl vs trt1, ctrl vs trt2, trt1 vs trt2) increases the chance of falsely detecting a difference (Type I error). ANOVA does a single omnibus test to see if *any* of the group means differ, effectively controlling the overall Type I error. If it’s significant, we can then do a **post-hoc** test (like Tukey) to identify *which* groups differ.\n",
    "\n",
    "---\n"
   ]
  },
  {
   "cell_type": "markdown",
   "id": "0a87eec4",
   "metadata": {},
   "source": [
    "# 7. Conclusion\n",
    "\n",
    "Conclusion:\n",
    "1. We performed a t-test between trt1 and trt2.\n",
    "2. We conducted an ANOVA across ctrl, trt1, and trt2.\n",
    "3. We explained why ANOVA is more appropriate than multiple t-tests.\n",
    "4. We used basic assumption checks and simple plots."
   ]
  },
  {
   "cell_type": "code",
   "execution_count": 5,
   "id": "d8bc6686-ba39-4b84-8e91-2d3c628ec7f6",
   "metadata": {},
   "outputs": [
    {
     "name": "stdout",
     "output_type": "stream",
     "text": [
      "All analyses complete.\n"
     ]
    }
   ],
   "source": [
    "print(\"All analyses complete.\")"
   ]
  },
  {
   "cell_type": "markdown",
   "id": "748273ee-3056-40cd-98f6-aec3d6229b09",
   "metadata": {},
   "source": [
    "## References\n",
    "- [Vincent Arel-Bundock's Rdatasets](https://vincentarelbundock.github.io/Rdatasets/)  \n",
    "- [Scipy Stats Documentation](https://docs.scipy.org/doc/scipy/reference/stats.html)  \n",
    "- [Statsmodels Documentation](https://www.statsmodels.org/)  \n",
    "\n",
    "**End of Notebook**\n"
   ]
  }
 ],
 "metadata": {
  "kernelspec": {
   "display_name": "Python 3",
   "language": "python",
   "name": "python3"
  },
  "language_info": {
   "codemirror_mode": {
    "name": "ipython",
    "version": 3
   },
   "file_extension": ".py",
   "mimetype": "text/x-python",
   "name": "python",
   "nbconvert_exporter": "python",
   "pygments_lexer": "ipython3",
   "version": "3.12.7"
  }
 },
 "nbformat": 4,
 "nbformat_minor": 5
}
