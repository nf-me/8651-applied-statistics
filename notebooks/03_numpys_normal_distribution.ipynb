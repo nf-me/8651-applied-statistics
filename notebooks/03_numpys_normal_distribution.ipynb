{
 "cells": [
  {
   "cell_type": "markdown",
   "id": "3dcc0916",
   "metadata": {},
   "source": [
    "# Task 2: numpy’s Normal Distribution\n",
    "\n",
    "### Problem Description\n",
    "We want to see how effectively `numpy.random.normal()` generates data that appear normally distributed. Specifically:\n",
    "- Generate **100,000** random values with mean = **10.0** and standard deviation = **3.0**.\n",
    "- Use the **Shapiro-Wilk test** (`scipy.stats.shapiro()`) to check if our sample could come from a normal distribution.\n",
    "- Plot a histogram of our generated data and overlay the theoretical **normal PDF** for comparison.\n"
   ]
  },
  {
   "cell_type": "code",
   "execution_count": 6,
   "id": "f94081ad",
   "metadata": {},
   "outputs": [],
   "source": [
    "import numpy as np\n",
    "import matplotlib.pyplot as plt\n",
    "from scipy.stats import shapiro, norm\n",
    "\n",
    "# Set a seed for reproducible results - optional so can remove if eneeded\n",
    "np.random.seed(42)"
   ]
  },
  {
   "cell_type": "code",
   "execution_count": 7,
   "id": "b91d6796",
   "metadata": {},
   "outputs": [],
   "source": [
    "# 1. Generate the sample\n",
    "sample_size = 100_000\n",
    "mean, std_dev = 10.0, 3.0\n",
    "sample = np.random.normal(loc=mean, scale=std_dev, size=sample_size)"
   ]
  },
  {
   "cell_type": "code",
   "execution_count": 19,
   "id": "5a76bb8c",
   "metadata": {},
   "outputs": [
    {
     "name": "stdout",
     "output_type": "stream",
     "text": [
      "Shapiro-Wilk Test Statistic: 0.9999920129776001\n",
      "Shapiro-Wilk p-value: 0.9999619722366333\n"
     ]
    }
   ],
   "source": [
    "# 2. Shapiro-Wilk test\n",
    "# Note: Shapiro can be sensitive for large samples, we can use a sub-sample\n",
    "test_stat, p_value = shapiro(sample)  # Using a slice for practicality\n",
    "\n",
    "# Rounding for readability to 4 places - chose not to use; but leaving in\n",
    "rounded_test_stat = round(test_stat,4)\n",
    "rounded_p_value = round(p_value,4)\n",
    "\n",
    "print(\"Shapiro-Wilk Test Statistic:\", test_stat)\n",
    "print(\"Shapiro-Wilk p-value:\", p_value)"
   ]
  },
  {
   "cell_type": "code",
   "execution_count": null,
   "id": "eb26a0d7",
   "metadata": {},
   "outputs": [],
   "source": []
  },
  {
   "cell_type": "code",
   "execution_count": null,
   "id": "c14bb552",
   "metadata": {},
   "outputs": [],
   "source": []
  },
  {
   "cell_type": "code",
   "execution_count": null,
   "id": "bb8e3772",
   "metadata": {},
   "outputs": [],
   "source": []
  },
  {
   "cell_type": "code",
   "execution_count": null,
   "id": "4d9a017e",
   "metadata": {},
   "outputs": [],
   "source": []
  },
  {
   "cell_type": "code",
   "execution_count": null,
   "id": "31845621",
   "metadata": {},
   "outputs": [],
   "source": []
  },
  {
   "cell_type": "code",
   "execution_count": null,
   "id": "3f4bddce",
   "metadata": {},
   "outputs": [],
   "source": []
  },
  {
   "cell_type": "code",
   "execution_count": null,
   "id": "4ab18fa2",
   "metadata": {},
   "outputs": [],
   "source": []
  },
  {
   "cell_type": "code",
   "execution_count": null,
   "id": "9a45f177",
   "metadata": {},
   "outputs": [],
   "source": []
  },
  {
   "cell_type": "code",
   "execution_count": null,
   "id": "57ed679c",
   "metadata": {},
   "outputs": [],
   "source": []
  }
 ],
 "metadata": {
  "kernelspec": {
   "display_name": "Python 3 (ipykernel)",
   "language": "python",
   "name": "python3"
  },
  "language_info": {
   "codemirror_mode": {
    "name": "ipython",
    "version": 3
   },
   "file_extension": ".py",
   "mimetype": "text/x-python",
   "name": "python",
   "nbconvert_exporter": "python",
   "pygments_lexer": "ipython3",
   "version": "3.9.13"
  }
 },
 "nbformat": 4,
 "nbformat_minor": 5
}
