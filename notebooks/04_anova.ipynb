{
 "cells": [
  {
   "cell_type": "markdown",
   "id": "663f399d",
   "metadata": {},
   "source": [
    "## Task 4: ANOVA\n",
    "\n",
    "### Purpose\n",
    "In this task, I want to estimate how often we **fail to detect** real differences between three groups (i.e., commit a **type II error**) when using a one-way ANOVA. Specifically:\n",
    "\n",
    "1. We will create a counter called **`no_type_ii`** and initialise it to zero.\n",
    "2. Run **10,000** simulations, each time generating three normal samples:\n",
    "   - Each sample has **100** observations, each with **standard deviation = 0.1**.\n",
    "   - The means differ slightly: **4.9**, **5.0**, and **5.1**.\n",
    "3. We perform a **one-way ANOVA** to see if at least one group’s mean is statistically different from the others.\n",
    "4. Whenever the ANOVA does **not** reject the null hypothesis (i.e., `p_value >= 0.05`), we consider it a **type II error** (a failure to detect the real difference)."
   ]
  },
  {
   "cell_type": "code",
   "execution_count": 6,
   "id": "fa82fbda",
   "metadata": {},
   "outputs": [],
   "source": [
    "import numpy as np\n",
    "from scipy.stats import f_oneway"
   ]
  },
  {
   "cell_type": "code",
   "execution_count": 7,
   "id": "efa4b88d",
   "metadata": {},
   "outputs": [],
   "source": [
    "# We repeat the experiment 10,000 times.\n",
    "num_simulations = 10_000\n",
    "# no_type_ii will count how many times we commit a Type II error:\n",
    "#  i.e., we fail to reject the null hypothesis even though there IS a difference.\n",
    "no_type_ii = 0"
   ]
  },
  {
   "cell_type": "code",
   "execution_count": 8,
   "id": "75eae580",
   "metadata": {},
   "outputs": [],
   "source": [
    "for _ in range(num_simulations):\n",
    "    # Generate three samples, each has 100 data points,\n",
    "    # each with std dev of 1.0 (not 0.1), but slightly different means:\n",
    "    # Sample 1 mean = 4.9, Sample 2 mean = 5.0, Sample 3 mean = 5.1\n",
    "    sample1 = np.random.normal(loc=4.9, scale=1.0, size=100)\n",
    "    sample2 = np.random.normal(loc=5.0, scale=1.0, size=100)\n",
    "    sample3 = np.random.normal(loc=5.1, scale=1.0, size=100)\n",
    "    \n",
    "    # Perform one-way ANOVA using f_oneway from scipy.stats\n",
    "    # The null hypothesis (H0): All three means are equal.\n",
    "    # The alternative (H1): At least one mean differs from the others.\n",
    "    f_stat, p_value = f_oneway(sample1, sample2, sample3)\n",
    "    \n",
    "    # If we fail to reject H0 at alpha=0.05 (i.e., p_value >= 0.05),\n",
    "    # it means we have committed a Type II error (false negative).\n",
    "    if p_value >= 0.05:\n",
    "        no_type_ii += 1"
   ]
  },
  {
   "cell_type": "code",
   "execution_count": 9,
   "id": "49ee4d15",
   "metadata": {},
   "outputs": [],
   "source": [
    "# After the loop, we calculate how often we saw a Type II error\n",
    "type_ii_rate = (no_type_ii / num_simulations) * 100"
   ]
  },
  {
   "cell_type": "code",
   "execution_count": 10,
   "id": "3197f78b",
   "metadata": {},
   "outputs": [
    {
     "name": "stdout",
     "output_type": "stream",
     "text": [
      "Number of simulations: 10000\n",
      "Number of Type II errors: 7808\n",
      "Estimated Type II Error Rate: 78.08%\n"
     ]
    }
   ],
   "source": [
    "print(\"Number of simulations:\", num_simulations)\n",
    "print(\"Number of Type II errors:\", no_type_ii)\n",
    "print(f\"Estimated Type II Error Rate: {type_ii_rate:.2f}%\")"
   ]
  },
  {
   "cell_type": "markdown",
   "id": "23a3b81c",
   "metadata": {},
   "source": [
    "### Discussion\n",
    "\n",
    "1. **Context: Type II Error**  \n",
    "   - A type II error (false negative) occurs when we fail to reject the null hypothesis, even though it is in fact false.\n",
    "   - Here, the means are genuinely different (4.9, 5.0, 5.1), so the null hypothesis of “all means are equal” is false. \n",
    "\n",
    "\n",
    "2. **Why These Parameters?**  \n",
    "   - The mean difference is only 0.2 total (4.9 to 5.1) with a small standard deviation of 0.1, so it’s not always easy for ANOVA to detect. This can lead to type II errors if the effect size is relatively small for the given sample size (n=100).\n",
    "\n",
    "\n",
    "3. **Interpreting the Simulation Output**  \n",
    "   - After 10,000 trials, the proportion of runs where p_value >= 0.05 approximates how often we miss the real difference. This is effectively the type **II error rate**.\n",
    "\n",
    "\n",
    "4. **Implications for Experimental Design**  \n",
    "   - If the estimated type II error rate is high, researchers might consider increasing sample sizes or verifying that the effect size is large enough to detect reliably.\n",
    "   \n",
    "\n",
    "### Conclusion\n",
    "This simulation quantifies how often a one-way ANOVA fails to detect a modest but real difference. The final percentage reflects the **power** issues that can arise with small mean separations—even with 100 observations per group."
   ]
  },
  {
   "cell_type": "markdown",
   "id": "245b0a64",
   "metadata": {},
   "source": [
    "### References\n",
    "\n",
    "1. Fisher, R. A. (1925). *Statistical Methods for Research Workers.* Oliver & Boyd.  \n",
    "2. [SciPy `f_oneway` Documentation](https://docs.scipy.org/doc/scipy/reference/generated/scipy.stats.f_oneway.html)  \n",
    "3. OpenStax. (n.d.). *Introductory Statistics.* Retrieved from [https://openstax.org/details/books/introductory-statistics](https://openstax.org/details/books/introductory-statistics)  "
   ]
  }
 ],
 "metadata": {
  "kernelspec": {
   "display_name": "Python 3 (ipykernel)",
   "language": "python",
   "name": "python3"
  },
  "language_info": {
   "codemirror_mode": {
    "name": "ipython",
    "version": 3
   },
   "file_extension": ".py",
   "mimetype": "text/x-python",
   "name": "python",
   "nbconvert_exporter": "python",
   "pygments_lexer": "ipython3",
   "version": "3.9.13"
  }
 },
 "nbformat": 4,
 "nbformat_minor": 5
}
