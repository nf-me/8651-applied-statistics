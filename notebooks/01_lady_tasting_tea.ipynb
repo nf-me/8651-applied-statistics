{
 "cells": [
  {
   "cell_type": "markdown",
   "id": "57a75a37",
   "metadata": {},
   "source": [
    "## Task 1: Permutations and Combinations\n",
    "\n",
    "### Problem Description\n",
    "\n",
    "We have **12 cups of tea**:\n",
    "- **6 cups** have milk added first.\n",
    "- **6 cups** have tea added first.\n",
    "\n",
    "We want to calculate the following probabilities:\n",
    "1. **Probability of guessing all 6 milk-first cups correctly** (i.e. 0 errors).\n",
    "2. **Probability of guessing at least 5 milk-first cups correctly** (i.e. ≤ 1 error).\n",
    "3. **Probability of guessing at least 4 milk-first cups correctly** (i.e. ≤ 2 errors), and a discussion of why allowing 2 errors is too lenient."
   ]
  },
  {
   "cell_type": "code",
   "execution_count": 8,
   "id": "9dc4e3d3",
   "metadata": {},
   "outputs": [
    {
     "name": "stdout",
     "output_type": "stream",
     "text": [
      "Total number of ways to choose 6 from 12: 924\n",
      "Probability of guessing all 6 correctly: 0.1082%\n"
     ]
    }
   ],
   "source": [
    "# Part 1\n",
    "\n",
    "from math import comb\n",
    "\n",
    "# Part 1: Probability of Guessing All 6 Correctly\n",
    "\n",
    "# 1. Total ways to pick 6 cups out of 12.\n",
    "total_combinations = comb(12, 6)\n",
    "\n",
    "# 2. Exactly 1 way matches the true set of 6 milk-first cups.\n",
    "correct_combination = 1\n",
    "\n",
    "# 3. Probability (as a percentage) of selecting the correct 6.\n",
    "probability_all_correct = (correct_combination / total_combinations) * 100\n",
    "\n",
    "print(\"Total number of ways to choose 6 from 12:\", total_combinations)\n",
    "print(f\"Probability of guessing all 6 correctly: {probability_all_correct:.4f}%\")"
   ]
  },
  {
   "cell_type": "code",
   "execution_count": 9,
   "id": "bd24d62e",
   "metadata": {},
   "outputs": [
    {
     "name": "stdout",
     "output_type": "stream",
     "text": [
      "Number of ways to select exactly 5 correct and 1 wrong: 36\n",
      "Probability of at least 5 correct (≤ 1 error): 4.0043%\n"
     ]
    }
   ],
   "source": [
    "# Part 2: Probability of Making At Most One Error (at least 5 correct cups)\n",
    "\n",
    "# 4. Ways to choose exactly 5 correct out of 6 milk-first cups,\n",
    "#    and 1 incorrect from the 6 tea-first cups.\n",
    "correct_5_wrong_1 = comb(6, 5) * comb(6, 1)\n",
    "\n",
    "# 5. Total ways for at most 1 error = exactly 6 correct + exactly 5 correct.\n",
    "correct_6_or_5 = correct_combination + correct_5_wrong_1\n",
    "\n",
    "# 6. Probability of at most 1 error\n",
    "probability_one_error = (correct_6_or_5 / total_combinations) * 100\n",
    "\n",
    "print(f\"Number of ways to select exactly 5 correct and 1 wrong: {correct_5_wrong_1}\")\n",
    "print(f\"Probability of at least 5 correct (≤ 1 error): {probability_one_error:.4f}%\")"
   ]
  },
  {
   "cell_type": "code",
   "execution_count": 10,
   "id": "bc90e701",
   "metadata": {},
   "outputs": [
    {
     "name": "stdout",
     "output_type": "stream",
     "text": [
      "Number of ways to select exactly 4 correct and 2 wrong: 225\n",
      "Probability of at least 4 correct (2 errors): 24.3506%\n"
     ]
    }
   ],
   "source": [
    "# Part 3: Probability of Making Exactly 2 Errors (at least 4 correct cups)\n",
    "\n",
    "# 7. Ways to select exactly 4 correct cups (out of 6) and 2 incorrect (out of 6).\n",
    "correct_4_wrong_2 = comb(6, 4) * comb(6, 2)\n",
    "\n",
    "# 8. Probability of making exactly 2 errors\n",
    "probability_two_errors = (correct_4_wrong_2 / total_combinations) * 100\n",
    "\n",
    "print(f\"Number of ways to select exactly 4 correct and 2 wrong: {correct_4_wrong_2}\")\n",
    "print(f\"Probability of at least 4 correct (2 errors): {probability_two_errors:.4f}%\")"
   ]
  },
  {
   "cell_type": "markdown",
   "id": "04be23c7",
   "metadata": {},
   "source": [
    "### Discussion (Would We Accept Two Errors)?\n",
    "\n",
    "- **Probability of Guessing All 6 Correctly (0 errors)**  \n",
    "  This probability is quite low (around 0.11%). In statistical terms, if a person achieves this result purely by guessing, it would be considered highly unlikely. Consequently, this outcome could be viewed as evidence of actual skill if repeated consistently.\n",
    "\n",
    "\n",
    "- **Probability of Guessing At Most 1 Error (≤ 1 error)**  \n",
    "  Allowing exactly one mistake increases the chance to around 4%. Although higher, it is still below the conventional **5% significance level**. Hence, whilst not as stringent as requiring a perfect score, it remains relatively difficult to achieve through random guessing alone.\n",
    "\n",
    "\n",
    "- **Allowing 2 Errors (≤ 2 errors)**  \n",
    "  By permitting two mistakes, the success probability rises sharply to around 24%. This means nearly one in four random guessers could meet this threshold. Since it far exceeds 5%, it would not be considered **statistically significant**, and thus provides little evidence of an actual ability to discern which cups had milk added first.\n",
    "  \n",
    " \n",
    "#### Conclusion:\n",
    "\n",
    "In summary, lower probabilities indicate stricter tests and a greater likelihood that a successful outcome is due to skill rather than guesswork. Once the probability of success climbs above 5%, the result often stops being considered “significant” in a traditional statistical sense. If we were to accept two errors it would make it much more likely that a person could pass the test by guessing alone, rather than demonstrating any real skill or ability. Therefore we would not accept two errors"
   ]
  },
  {
   "cell_type": "markdown",
   "id": "df0b3953",
   "metadata": {},
   "source": [
    "\n"
   ]
  },
  {
   "cell_type": "markdown",
   "id": "17db763c",
   "metadata": {},
   "source": [
    "### References\n",
    "\n",
    "1. Fisher, R. A. (1935). *The Design of Experiments.* Oliver & Boyd."
   ]
  }
 ],
 "metadata": {
  "kernelspec": {
   "display_name": "Python 3 (ipykernel)",
   "language": "python",
   "name": "python3"
  },
  "language_info": {
   "codemirror_mode": {
    "name": "ipython",
    "version": 3
   },
   "file_extension": ".py",
   "mimetype": "text/x-python",
   "name": "python",
   "nbconvert_exporter": "python",
   "pygments_lexer": "ipython3",
   "version": "3.9.13"
  }
 },
 "nbformat": 4,
 "nbformat_minor": 5
}
