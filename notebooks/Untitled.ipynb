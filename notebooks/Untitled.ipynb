{
 "cells": [
  {
   "cell_type": "markdown",
   "id": "e1689a4f",
   "metadata": {},
   "source": [
    "## Task 2: numpy's Normal Distribution\n",
    "\n",
    "### Task:\n",
    "\n",
    "In this task, I will assess whether `numpy.random.normal()` properly generates normal values. Specifically:\n",
    "\n",
    "1. Generate a sample of 100,000 values with:\n",
    "   - Mean = 10.0\n",
    "   - Standard Deviation = 3.0\n",
    "\n",
    "2. Use `scipy.stats.shapiro()` to perform the Shapiro-Wilk test and determine whether the sample is drawn from a normal distribution.\n",
    "\n",
    "3. Plot a histogram of the generated values, then overlay the corresponding normal distribution (PDF) on top of it."
   ]
  },
  {
   "cell_type": "markdown",
   "id": "f09a8a20",
   "metadata": {},
   "source": [
    "### 1. Key Considerations\n",
    "\n",
    "1. **Random Generation**  \n",
    "   - We use `numpy.random.normal(loc=10.0, scale=3.0, size=100000)`.\n",
    "   - Optionally, set a seed for reproducibility using `np.random.seed()`.\n",
    "\n",
    "2. **Shapiro-Wilk Test**  \n",
    "   - Hypothesis testing framework:\n",
    "     - **Null Hypothesis (\\(H_0\\))**: The data are normally distributed.\n",
    "     - **Alternative Hypothesis (\\(H_1\\))**: The data are not normally distributed.\n",
    "   - `p_value < 0.05` → Reject \\(H_0\\); possibly non-normal.\n",
    "   - `p_value >= 0.05` → Fail to reject \\(H_0\\); the data appear normal.\n",
    "\n",
    "3. **Histogram and PDF**  \n",
    "   - The histogram shows the empirical distribution of the data.\n",
    "   - Overlay the theoretical normal PDF:\n",
    "     \\[\n",
    "       f(x) = \\frac{1}{\\sigma \\sqrt{2\\pi}} \\exp \\left(-\\frac{(x - \\mu)^2}{2\\sigma^2}\\right).\n",
    "     \\]\n",
    "   - Compare visually to see if they align.\n",
    "\n",
    "4. **Large Sample Note**  \n",
    "   - For large \\(n\\) (like 100,000), small deviations from perfect normality may lead to a significant Shapiro-Wilk result.\n",
    "   - A visual inspection via histogram or Q-Q plot can provide added confidence.\n"
   ]
  },
  {
   "cell_type": "code",
   "execution_count": null,
   "id": "46864fcd",
   "metadata": {},
   "outputs": [],
   "source": []
  }
 ],
 "metadata": {
  "kernelspec": {
   "display_name": "Python 3 (ipykernel)",
   "language": "python",
   "name": "python3"
  },
  "language_info": {
   "codemirror_mode": {
    "name": "ipython",
    "version": 3
   },
   "file_extension": ".py",
   "mimetype": "text/x-python",
   "name": "python",
   "nbconvert_exporter": "python",
   "pygments_lexer": "ipython3",
   "version": "3.9.13"
  }
 },
 "nbformat": 4,
 "nbformat_minor": 5
}
