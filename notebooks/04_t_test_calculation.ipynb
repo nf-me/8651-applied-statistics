{
 "cells": [
  {
   "cell_type": "markdown",
   "id": "ff322c51",
   "metadata": {},
   "source": [
    "##  4: t-Test Calculation for a Before-and-After Study\n",
    "\n",
    "### Problem Description\n",
    "We have resting heart rates for **10 patients**, measured **before** and **after** a two-week exercise programme. The data are:\n",
    "\n",
    "| Patient ID | 0  | 1  | 2  | 3  | 4  | 5  | 6  | 7  | 8  | 9  |\n",
    "|------------|----|----|----|----|----|----|----|----|----|----|\n",
    "| **Before** | 63 | 68 | 70 | 64 | 74 | 67 | 70 | 57 | 66 | 65 |\n",
    "| **After**  | 64 | 64 | 68 | 64 | 73 | 70 | 72 | 54 | 61 | 63 |\n",
    "\n",
    "How we will approach the task:\n",
    "1. **Calculate the t-statistic** manually based on this dataset.\n",
    "2. **Compare** it to the value given by `scipy.stats`.\n",
    "3. **Explain** my work and reference any sources used."
   ]
  },
  {
   "cell_type": "code",
   "execution_count": 8,
   "id": "871b857f",
   "metadata": {},
   "outputs": [],
   "source": [
    "import numpy as np\n",
    "from scipy.stats import ttest_rel"
   ]
  },
  {
   "cell_type": "code",
   "execution_count": 9,
   "id": "409703c8",
   "metadata": {},
   "outputs": [],
   "source": [
    "# 1. Input the data\n",
    "before = np.array([63, 68, 70, 64, 74, 67, 70, 57, 66, 65])\n",
    "after  = np.array([64, 64, 68, 64, 73, 70, 72, 54, 61, 63])"
   ]
  }
 ],
 "metadata": {
  "kernelspec": {
   "display_name": "Python 3 (ipykernel)",
   "language": "python",
   "name": "python3"
  },
  "language_info": {
   "codemirror_mode": {
    "name": "ipython",
    "version": 3
   },
   "file_extension": ".py",
   "mimetype": "text/x-python",
   "name": "python",
   "nbconvert_exporter": "python",
   "pygments_lexer": "ipython3",
   "version": "3.9.13"
  }
 },
 "nbformat": 4,
 "nbformat_minor": 5
}
