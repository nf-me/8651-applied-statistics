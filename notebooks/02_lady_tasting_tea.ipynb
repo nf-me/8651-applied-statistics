{
 "cells": [
  {
   "cell_type": "markdown",
   "id": "e4b5c8e2",
   "metadata": {},
   "source": [
    "## Task 1: Lady Tasting Tea Experiment\n",
    "\n",
    "In this task, we are calculating the probability of correctly guessing which of the 6 cups of tea out of 12 has had the milk poured in first. This assumes the person is purely guessing.\n",
    "\n",
    "### Combinatorial Approach\n",
    "\n",
    "We will use the combination formula to calculate the total number of ways to select 6 cups out of 12, and then calculate the probability for guessing the correct cups."
   ]
  },
  {
   "cell_type": "code",
   "execution_count": 3,
   "id": "6ffd83e1",
   "metadata": {},
   "outputs": [
    {
     "name": "stdout",
     "output_type": "stream",
     "text": [
      "Total combinations of 6 cups from 12: 924\n",
      "Probability of guessing all 6 correctly: 0.00108225\n"
     ]
    }
   ],
   "source": [
    "from math import comb\n",
    "\n",
    "# Total number of combinations for selecting the 6 cups from 12\n",
    "total_combinations = comb(12,6)\n",
    "\n",
    "# Logic\n",
    "# The person must guess exactly 6 out of 12, there is only 1 correct combintation\n",
    "correct_combination = 1\n",
    "\n",
    "#Probability of guessing all 6 correctly\n",
    "probability_correct = correct_combination / total_combinations\n",
    "\n",
    "print(f\"Total combinations of 6 cups from 12: {total_combinations}\")\n",
    "print(f\"Probability of guessing all 6 correctly: {probability_correct:.8f}\")\n"
   ]
  },
  {
   "cell_type": "code",
   "execution_count": null,
   "id": "fda9f9b2",
   "metadata": {},
   "outputs": [],
   "source": []
  }
 ],
 "metadata": {
  "kernelspec": {
   "display_name": "Python 3 (ipykernel)",
   "language": "python",
   "name": "python3"
  },
  "language_info": {
   "codemirror_mode": {
    "name": "ipython",
    "version": 3
   },
   "file_extension": ".py",
   "mimetype": "text/x-python",
   "name": "python",
   "nbconvert_exporter": "python",
   "pygments_lexer": "ipython3",
   "version": "3.9.13"
  }
 },
 "nbformat": 4,
 "nbformat_minor": 5
}
