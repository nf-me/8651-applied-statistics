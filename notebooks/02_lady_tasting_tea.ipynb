{
 "cells": [
  {
   "cell_type": "markdown",
   "id": "bffaea69",
   "metadata": {},
   "source": [
    "## Task 1: Permutations and Combinations\n",
    "\n",
    "### Problem:\n",
    "\n",
    "We have 12 cups of tea, 6 with milk added first and 6 with tea added first. A person, claiming to have the special ability to distinguish which cups had the milk added first, is guessing the cups.\n",
    "\n",
    "1. **Part 1**: We will calculate the probability that they select all 6 cups with the milk added first correctly.\n",
    "2. **Part 2**: We will calculate the probability that they make at most one error (i.e., they correctly select at least 5 out of the 6 cups with the milk added first).\n",
    "\n",
    "The person is assumed to be guessing randomly.\n"
   ]
  },
  {
   "cell_type": "code",
   "execution_count": 2,
   "id": "61227ca3",
   "metadata": {},
   "outputs": [
    {
     "name": "stdout",
     "output_type": "stream",
     "text": [
      "Total combinations of 6 cups from 12: 924\n",
      "Probability of guessing all 6 correctly: 0.1082%\n"
     ]
    }
   ],
   "source": [
    "# Part 1\n",
    "\n",
    "from math import comb\n",
    "\n",
    "# Total number of combinations for selecting 6 cups from 12\n",
    "total_combinations = comb(12, 6)\n",
    "\n",
    "# There is only 1 correct combination where the person selects exactly the 6 correct cups\n",
    "correct_combination = 1\n",
    "\n",
    "# Probability of guessing all 6 correctly, in percentage\n",
    "probability_correct = (correct_combination / total_combinations) * 100\n",
    "\n",
    "print(f\"Total combinations of 6 cups from 12: {total_combinations}\")\n",
    "print(f\"Probability of guessing all 6 correctly: {probability_correct:.4f}%\")\n"
   ]
  },
  {
   "cell_type": "code",
   "execution_count": 3,
   "id": "c72a354b",
   "metadata": {},
   "outputs": [
    {
     "name": "stdout",
     "output_type": "stream",
     "text": [
      "Number of ways to select exactly 5 correct cups and 1 incorrect: 36\n",
      "Probability of guessing at least 5 correctly (making at most 1 error): 4.0043%\n"
     ]
    }
   ],
   "source": [
    "# Part 2\n",
    "\n",
    "# Number of ways to select exactly 5 correct cups and 1 incorrect cup\n",
    "correct_5_wrong_1 = comb(6,5) * comb(6,1)\n",
    "\n",
    "# Total number of ways to select exactly 6 or at least 5 correct cups\n",
    "correct_6_or_5 = correct_combination + correct_5_wrong_1\n",
    "\n",
    "# Ptobability of making at most 1 error \n",
    "probability_one_error =(correct_6_or_5/total_combinations) * 100\n",
    "\n",
    "print(f\"Number of ways to select exactly 5 correct cups and 1 incorrect: {correct_5_wrong_1}\")\n",
    "print(f\"Probability of guessing at least 5 correctly (making at most 1 error): {probability_one_error:.4f}%\")"
   ]
  },
  {
   "cell_type": "code",
   "execution_count": null,
   "id": "0e276a2d",
   "metadata": {},
   "outputs": [],
   "source": []
  }
 ],
 "metadata": {
  "kernelspec": {
   "display_name": "Python 3 (ipykernel)",
   "language": "python",
   "name": "python3"
  },
  "language_info": {
   "codemirror_mode": {
    "name": "ipython",
    "version": 3
   },
   "file_extension": ".py",
   "mimetype": "text/x-python",
   "name": "python",
   "nbconvert_exporter": "python",
   "pygments_lexer": "ipython3",
   "version": "3.9.13"
  }
 },
 "nbformat": 4,
 "nbformat_minor": 5
}
