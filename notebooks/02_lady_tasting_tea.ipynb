{
 "cells": [
  {
   "cell_type": "markdown",
   "id": "57a75a37",
   "metadata": {},
   "source": [
    "## Task 1: Permutations and Combinations\n",
    "\n",
    "### Problem:\n",
    "\n",
    "We have 12 cups of tea, 6 with milk added first and 6 with tea added first. A person, claiming to have the special ability to distinguish which cups had the milk added first, is guessing the cups.\n",
    "\n",
    "1. **Part 1**: We will calculate the probability that they select all 6 cups with the milk added first correctly.\n",
    "2. **Part 2**: We will calculate the probability that they make at most one error (i.e., they correctly select at least 5 out of the 6 cups with the milk added first).\n",
    "\n",
    "The person is assumed to be guessing randomly.\n"
   ]
  },
  {
   "cell_type": "code",
   "execution_count": 2,
   "id": "9dc4e3d3",
   "metadata": {},
   "outputs": [
    {
     "name": "stdout",
     "output_type": "stream",
     "text": [
      "Total combinations of 6 cups from 12: 924\n",
      "Probability of guessing all 6 correctly: 0.1082%\n"
     ]
    }
   ],
   "source": [
    "# Part 1\n",
    "\n",
    "from math import comb\n",
    "\n",
    "# Total number of combinations for selecting 6 cups from 12\n",
    "total_combinations = comb(12, 6)\n",
    "\n",
    "# There is only 1 correct combination where the person selects exactly the 6 correct cups\n",
    "correct_combination = 1\n",
    "\n",
    "# Probability of guessing all 6 correctly, in percentage\n",
    "probability_correct = (correct_combination / total_combinations) * 100\n",
    "\n",
    "print(f\"Total combinations of 6 cups from 12: {total_combinations}\")\n",
    "print(f\"Probability of guessing all 6 correctly: {probability_correct:.4f}%\")\n"
   ]
  },
  {
   "cell_type": "code",
   "execution_count": 3,
   "id": "bd24d62e",
   "metadata": {},
   "outputs": [
    {
     "name": "stdout",
     "output_type": "stream",
     "text": [
      "Number of ways to select exactly 5 correct cups and 1 incorrect: 36\n",
      "Probability of guessing at least 5 correctly (making at most 1 error): 4.0043%\n"
     ]
    }
   ],
   "source": [
    "# Part 2\n",
    "\n",
    "# Number of ways to select exactly 5 correct cups and 1 incorrect cup\n",
    "correct_5_wrong_1 = comb(6,5) * comb(6,1)\n",
    "\n",
    "# Total number of ways to select exactly 6 or at least 5 correct cups\n",
    "correct_6_or_5 = correct_combination + correct_5_wrong_1\n",
    "\n",
    "# Ptobability of making at most 1 error \n",
    "probability_one_error =(correct_6_or_5/total_combinations) * 100\n",
    "\n",
    "print(f\"Number of ways to select exactly 5 correct cups and 1 incorrect: {correct_5_wrong_1}\")\n",
    "print(f\"Probability of guessing at least 5 correctly (making at most 1 error): {probability_one_error:.4f}%\")"
   ]
  },
  {
   "cell_type": "code",
   "execution_count": 4,
   "id": "bc90e701",
   "metadata": {},
   "outputs": [
    {
     "name": "stdout",
     "output_type": "stream",
     "text": [
      "Number of ways to select exactly 4 correct cups and 2 incorrect: 225\n",
      "Probability of guessing at least 4 correctly (making exactly 2 errors): 24.3506%\n"
     ]
    }
   ],
   "source": [
    "# Number of ways to select exactly 4 correct cups and 2 incorrect cups\n",
    "correct_4_wrong_2 = comb(6, 4) * comb(6, 2)\n",
    "\n",
    "# Probability of making exactly 2 errors\n",
    "probability_two_errors = (correct_4_wrong_2 / total_combinations) * 100\n",
    "\n",
    "print(f\"Number of ways to select exactly 4 correct cups and 2 incorrect: {correct_4_wrong_2}\")\n",
    "print(f\"Probability of guessing at least 4 correctly (making exactly 2 errors): {probability_two_errors:.4f}%\")\n"
   ]
  },
  {
   "cell_type": "markdown",
   "id": "04be23c7",
   "metadata": {},
   "source": [
    "### Would We Accept Two Errors?\n",
    "\n",
    "If we accept two errors, the person needs to select at least 4 correct cups (meaning they can guess up to 2 cups incorrectly). The probability of guessing at least 4 correct cups by chance increases to **24.35%**. This is significantly higher than the probability of guessing all 6 cups correctly by chance (**0.11%**).\n",
    "\n",
    "#### Statistical Significance:\n",
    "\n",
    "In statistics, we often determine whether an outcome is due to random chance by comparing it to a **significance level** (often denoted as α, commonly set to 5% or 0.05). If a result has a probability greater than this threshold, we are less likely to consider it statistically significant because it could easily happen by random chance.\n",
    "\n",
    "- Allowing two errors leads to a **24.35%** probability, which is much higher than the common **5% significance level**.\n",
    "- This means that with such a high probability, the outcome is **not statistically significant** and could very easily occur by random guessing, which undermines the credibility of the person's supposed ability.\n",
    "\n",
    "In contrast, if we require the person to guess all 6 cups correctly, the probability is **0.11%**—well below the 5% significance threshold. This low probability indicates that such a result would be **statistically significant**, meaning it’s unlikely to have occurred by chance alone.\n",
    "\n",
    "#### Conclusion:\n",
    "\n",
    "Allowing two errors makes the test less rigorous because the probability of passing the test increases significantly (24.35%), approaching random chance. This result is not statistically significant, so accepting two errors would make it much more likely that a person could pass the test by guessing alone, rather than demonstrating any real skill or ability.\n"
   ]
  },
  {
   "cell_type": "markdown",
   "id": "df0b3953",
   "metadata": {},
   "source": [
    "\n"
   ]
  },
  {
   "cell_type": "code",
   "execution_count": null,
   "id": "38c9d278",
   "metadata": {},
   "outputs": [],
   "source": []
  }
 ],
 "metadata": {
  "kernelspec": {
   "display_name": "Python 3 (ipykernel)",
   "language": "python",
   "name": "python3"
  },
  "language_info": {
   "codemirror_mode": {
    "name": "ipython",
    "version": 3
   },
   "file_extension": ".py",
   "mimetype": "text/x-python",
   "name": "python",
   "nbconvert_exporter": "python",
   "pygments_lexer": "ipython3",
   "version": "3.9.13"
  }
 },
 "nbformat": 4,
 "nbformat_minor": 5
}
