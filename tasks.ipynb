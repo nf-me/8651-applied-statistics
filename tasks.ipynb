{
 "cells": [
  {
   "cell_type": "markdown",
   "id": "0b2fa7d0-71b0-46e7-a8a1-ac3442bd9e02",
   "metadata": {},
   "source": [
    "# 1. Introduction\n",
    "\n",
    "This notebook contains **four tasks** for an applied statistics assignment:\n",
    "\n",
    "1. **Task 1: Permutations and Combinations (Lady Tasting Tea)**\n",
    "2. **Task 2: Checking Normal Distribution with `numpy`**\n",
    "3. **Task 3: t-Test Calculation (Before and After Study)**\n",
    "4. **Task 4: ANOVA (Estimating Type II Error)**\n",
    "\n",
    "Each task includes:\n",
    "- A short description of the problem.\n",
    "- Code cells with clear comments.\n",
    "- A discussion of the results.\n",
    "\n",
    "---\n",
    "\n",
    "# 2. Task 1: Permutations and Combinations (Lady Tasting Tea)\n",
    "\n",
    "**Scenario**:  \n",
    "We have 12 cups of tea, 6 with milk-first and 6 with tea-first.  \n",
    "We want to calculate:\n",
    "1. The probability of *correctly identifying* all 6 milk-first cups by guessing.  \n",
    "2. The probability of making *at most 1 error* (i.e., at least 5 correct cups).  \n",
    "3. A discussion about allowing 2 errors.\n",
    "---"
   ]
  },
  {
   "cell_type": "code",
   "execution_count": 44,
   "id": "44659783-427c-40aa-b77b-5c43bad24ecf",
   "metadata": {},
   "outputs": [
    {
     "name": "stdout",
     "output_type": "stream",
     "text": [
      "---- Task 1 ----\n",
      "Number of ways to select 6 from 12: 924\n",
      "Probability of guessing all 6 correctly: 0.1082%\n"
     ]
    }
   ],
   "source": [
    "# ----------------------------\n",
    "# Task 1: Permutations & Combinations\n",
    "# ----------------------------\n",
    "from math import comb\n",
    "\n",
    "# 1. Probability of guessing all 6 correctly\n",
    "total_combinations = comb(12, 6)  # Ways to choose 6 cups out of 12\n",
    "correct_combination = 1           # Exactly one way matches the true 6 milk-first cups\n",
    "prob_all_correct = correct_combination / total_combinations\n",
    "\n",
    "print(\"---- Task 1 ----\")\n",
    "print(\"Number of ways to select 6 from 12:\", total_combinations)\n",
    "print(f\"Probability of guessing all 6 correctly: {prob_all_correct * 100:.4f}%\")"
   ]
  },
  {
   "cell_type": "code",
   "execution_count": 45,
   "id": "46ded407-e67e-4b44-99e6-98667336e182",
   "metadata": {},
   "outputs": [
    {
     "name": "stdout",
     "output_type": "stream",
     "text": [
      "Number of ways for exactly 5 correct, 1 wrong: 36\n",
      "Probability of at most 1 error (≥5 correct): 4.0043%\n"
     ]
    }
   ],
   "source": [
    "# 2. Probability of making at most 1 error (≥5 correct)\n",
    "# Ways to choose exactly 5 correct from the 6 milk-first cups\n",
    "# and 1 incorrect from the 6 tea-first cups\n",
    "correct_5_wrong_1 = comb(6, 5) * comb(6, 1)\n",
    "\n",
    "# Combine ways for exactly 5 correct + exactly 6 correct\n",
    "correct_6_or_5 = correct_combination + correct_5_wrong_1\n",
    "prob_at_most_one_error = (correct_6_or_5 / total_combinations) * 100\n",
    "\n",
    "print(f\"Number of ways for exactly 5 correct, 1 wrong: {correct_5_wrong_1}\")\n",
    "print(f\"Probability of at most 1 error (≥5 correct): {prob_at_most_one_error:.4f}%\")"
   ]
  },
  {
   "cell_type": "code",
   "execution_count": 46,
   "id": "977b4470-00ba-4579-b8f1-41a9b1713b80",
   "metadata": {},
   "outputs": [
    {
     "name": "stdout",
     "output_type": "stream",
     "text": [
      "Number of ways for exactly 4 correct (2 errors): 225\n",
      "Probability with 2 errors allowed: 24.3506%\n"
     ]
    }
   ],
   "source": [
    "# 3. Probability of allowing exactly 2 errors (i.e. 4 correct)\n",
    "correct_4_wrong_2 = comb(6, 4) * comb(6, 2)\n",
    "prob_two_errors = (correct_4_wrong_2 / total_combinations) * 100\n",
    "\n",
    "print(f\"Number of ways for exactly 4 correct (2 errors): {correct_4_wrong_2}\")\n",
    "print(f\"Probability with 2 errors allowed: {prob_two_errors:.4f}%\")"
   ]
  },
  {
   "cell_type": "markdown",
   "id": "91b8ef5d-42a8-4407-a15e-601ff7fe17f8",
   "metadata": {},
   "source": [
    "---\n",
    "### Discussion (Task 1)?\n",
    "\n",
    "- **Probability of Guessing All 6 Correctly (0 errors)**  \n",
    "  This probability is quite low (around 0.11%). In statistical terms, if a person achieves this result purely by guessing, it would be considered highly unlikely. Consequently, this outcome could be viewed as evidence of actual skill if repeated consistently.\n",
    "\n",
    "\n",
    "- **Probability of Guessing At Most 1 Error (≤ 1 error)**  \n",
    "  Allowing exactly one mistake increases the chance to around 4%. Although higher, it is still below the conventional **5% significance level**. Hence, whilst not as stringent as requiring a perfect score, it remains relatively difficult to achieve through random guessing alone.\n",
    "\n",
    "\n",
    "- **Allowing 2 Errors (≤ 2 errors)**  \n",
    "  By permitting two mistakes, the success probability rises sharply to around 24%. This means nearly one in four random guessers could meet this threshold. Since it far exceeds 5%, it would not be considered **statistically significant**, and thus provides little evidence of an actual ability to discern which cups had milk added first.\n",
    "  \n",
    "--- \n",
    "#### Conclusion:\n",
    "\n",
    "In summary, lower probabilities indicate stricter tests and a greater likelihood that a successful outcome is due to skill rather than guesswork. Once the probability of success climbs above 5%, the result often stops being considered “significant” in a traditional statistical sense. If we were to accept two errors it would make it much more likely that a person could pass the test by guessing alone, rather than demonstrating any real skill or ability. Therefore we would not accept two errors"
   ]
  },
  {
   "cell_type": "markdown",
   "id": "85fec07a-fa7b-46d2-abf0-d5c662ad07a6",
   "metadata": {},
   "source": [
    "# 3. Task 2: numpy’s Normal Distribution\n",
    "\n",
    "### Problem Description\n",
    "We want to see how effectively `numpy.random.normal()` generates data that appear normally distributed. Specifically:\n",
    "- Generate **100,000** random values with mean = **10.0** and standard deviation = **3.0**.\n",
    "- Use the **Shapiro-Wilk test** (`scipy.stats.shapiro()`) to check if our sample could come from a normal distribution.\n",
    "- Plot a histogram of our generated data and overlay the theoretical **normal PDF** for comparison."
   ]
  },
  {
   "cell_type": "code",
   "execution_count": 49,
   "id": "178743a6-c5c9-4bfe-9f34-dc4a61a21133",
   "metadata": {},
   "outputs": [],
   "source": [
    "# ----------------------------\n",
    "# Task 2: numpy's Normal Distribution\n",
    "# ----------------------------\n",
    "\n",
    "import numpy as np\n",
    "import matplotlib.pyplot as plt\n",
    "from scipy.stats import shapiro, norm\n",
    "\n",
    "np.random.seed(42)  # Reproducibility\n",
    "\n",
    "# 1. Generate sample\n",
    "sample_size = 100_000\n",
    "mean_val, std_val = 10.0, 3.0\n",
    "data = np.random.normal(loc=mean_val, scale=std_val, size=sample_size)"
   ]
  },
  {
   "cell_type": "code",
   "execution_count": 50,
   "id": "1a0ddc61-04ba-4e63-b739-c081d0095e21",
   "metadata": {},
   "outputs": [
    {
     "name": "stdout",
     "output_type": "stream",
     "text": [
      "\n",
      "---- Task 2 ----\n",
      "Shapiro–Wilk Normality Test:\n",
      " Test Statistic = 0.999991\n",
      " p-value        = 0.999830\n"
     ]
    }
   ],
   "source": [
    "# 2. Shapiro–Wilk Test (can be sensitive for large n)\n",
    "stat, p_val = shapiro(data)\n",
    "print(\"\\n---- Task 2 ----\")\n",
    "print(\"Shapiro–Wilk Normality Test:\")\n",
    "print(f\" Test Statistic = {stat:.6f}\")\n",
    "print(f\" p-value        = {p_val:.6f}\")"
   ]
  },
  {
   "cell_type": "code",
   "execution_count": 52,
   "id": "c5bc6810-0aac-4a35-b493-8a1ce2dd3230",
   "metadata": {},
   "outputs": [
    {
     "data": {
      "image/png": "[encoded data removed]",
      "text/plain": [
       "<Figure size 800x500 with 1 Axes>"
      ]
     },
     "metadata": {},
     "output_type": "display_data"
    }
   ],
   "source": [
    "# 3. Plot histogram + Normal PDF\n",
    "fig, ax = plt.subplots(figsize=(8, 5))\n",
    "counts, bins, _ = ax.hist(data, bins=50, density=True, alpha=0.7, color='skyblue',\n",
    "                          edgecolor='black', label='Sample Distribution')\n",
    "\n",
    "x_vals = np.linspace(data.min(), data.max(), 300)\n",
    "pdf_vals = norm.pdf(x_vals, loc=mean_val, scale=std_val)\n",
    "\n",
    "ax.plot(x_vals, pdf_vals, 'r--', lw=2, label='Theoretical Normal PDF')\n",
    "ax.set_title(f\"Histogram vs. Normal PDF (mean={mean_val}, std={std_val})\")\n",
    "ax.set_xlabel(\"Value\")\n",
    "ax.set_ylabel(\"Density\")\n",
    "ax.legend()\n",
    "ax.grid(alpha=0.3)\n",
    "plt.tight_layout()\n",
    "plt.show()"
   ]
  },
  {
   "cell_type": "code",
   "execution_count": 53,
   "id": "012e72ac-4c52-45ac-ae16-d5300cd978f7",
   "metadata": {},
   "outputs": [
    {
     "name": "stdout",
     "output_type": "stream",
     "text": [
      "\n",
      "Sample Statistics:\n",
      " Mean:    10.0029 (Expected: 10.0)\n",
      " Std Dev: 3.0027 (Expected: 3.0)\n"
     ]
    }
   ],
   "source": [
    "# 4. Print summary stats\n",
    "print(\"\\nSample Statistics:\")\n",
    "print(f\" Mean:    {np.mean(data):.4f} (Expected: {mean_val})\")\n",
    "print(f\" Std Dev: {np.std(data):.4f} (Expected: {std_val})\")"
   ]
  },
  {
   "cell_type": "markdown",
   "id": "3f741c42-5ba2-4900-9563-10861d712ccd",
   "metadata": {},
   "source": [
    "### Discussion\n",
    "\n",
    "1. **Interpretation of Shapiro-Wilk Test**  \n",
    "   - The Shapiro-Wilk test checks whether the sample could plausibly come from a normal distribution.  \n",
    "   - For large samples (like 100,000 points), even minimal deviations from normality might yield a small p-value, so always pair this test with visual methods.\n",
    "   \n",
    "\n",
    "2. **Histogram and PDF Overlay**  \n",
    "   - By setting `density=True` in the histogram, we ensure the total area under the histogram is comparable to 1, making it directly comparable to the theoretical PDF.  \n",
    "   - If the red PDF line overlaps the histogram shape reasonably well, it suggests the data follow the specified normal distribution parameters (mean = 10, std = 3).\n",
    "\n",
    "\n",
    "3. **Overall Conclusion**  \n",
    "   - Based on both the Shapiro-Wilk test output and the plotted distribution, we can assess whether the data appear normal.  \n",
    "   - If the histogram is bell-shaped and the PDF aligns closely, and if the Shapiro-Wilk test p-value is not exceedingly small, it indicates `numpy.random.normal()` has generated a dataset consistent with a normal distribution of mean 10 and standard deviation 3."
   ]
  },
  {
   "cell_type": "markdown",
   "id": "47dfe330-6dac-4e1c-8442-ad5dc5604e7f",
   "metadata": {},
   "source": [
    "### References\n",
    "\n",
    "- McKinney, W. (2017). *Python for Data Analysis.* O’Reilly Media.  \n",
    "- [SciPy Shapiro Test Documentation](https://docs.scipy.org/doc/scipy/reference/generated/scipy.stats.shapiro.html)  \n",
    "- [SciPy Normal Distribution Documentation](https://docs.scipy.org/doc/scipy/reference/generated/scipy.stats.norm.html)  "
   ]
  },
  {
   "cell_type": "markdown",
   "id": "ee6e7fe5-dc03-44fa-9803-3016cba1214a",
   "metadata": {},
   "source": [
    "# 4. Task 3: t-Test Calculation for a Before-and-After Study\n",
    "\n",
    "### Problem Description\n",
    "We have resting heart rates for **10 patients**, measured **before** and **after** a two-week exercise programme. The data are:\n",
    "\n",
    "| Patient ID | 0  | 1  | 2  | 3  | 4  | 5  | 6  | 7  | 8  | 9  |\n",
    "|------------|----|----|----|----|----|----|----|----|----|----|\n",
    "| **Before** | 63 | 68 | 70 | 64 | 74 | 67 | 70 | 57 | 66 | 65 |\n",
    "| **After**  | 64 | 64 | 68 | 64 | 73 | 70 | 72 | 54 | 61 | 63 |\n",
    "\n",
    "How we will approach the task:\n",
    "1. **Calculate the t-statistic** manually based on this dataset.\n",
    "2. **Compare** it to the value given by `scipy.stats`.\n",
    "3. **Explain** my work and reference any sources used."
   ]
  },
  {
   "cell_type": "code",
   "execution_count": 57,
   "id": "e2735229-2697-4c9b-9a93-95e62e9a2dba",
   "metadata": {},
   "outputs": [],
   "source": [
    "# ----------------------------\n",
    "# Task 3: t-Test Calculation\n",
    "# ----------------------------\n",
    "import numpy as np\n",
    "from scipy.stats import ttest_rel\n",
    "\n",
    "# 1. Before/After data\n",
    "before = np.array([63, 68, 70, 64, 74, 67, 70, 57, 66, 65])\n",
    "after  = np.array([64, 64, 68, 64, 73, 70, 72, 54, 61, 63])\n",
    "\n",
    "# 2. Manual Calculation of Paired t-test\n",
    "\n",
    "# 2.1 Compute the differences (After - Before)\n",
    "diff = after - before\n",
    "\n",
    "# 2.2 Sample size\n",
    "n = len(diff)\n",
    "\n",
    "# 2.3 Mean of differences\n",
    "mean_diff = np.mean(diff)\n",
    "\n",
    "# 2.4 Standard deviation of differences (sample standard deviation)\n",
    "std_diff = np.std(diff, ddof=1)  # ddof=1 for sample-based formula\n",
    "\n",
    "# 2.5 Compute the t-statistic\n",
    "#    t = (mean_diff - 0) / (std_diff / sqrt(n))\n",
    "#    The (mean_diff - 0) is because we're testing if the mean difference = 0\n",
    "t_stat_manual = mean_diff / (std_diff / np.sqrt(n))"
   ]
  },
  {
   "cell_type": "code",
   "execution_count": 58,
   "id": "b80a56fb-fbde-4333-8728-425a5ac6b430",
   "metadata": {},
   "outputs": [],
   "source": [
    "# 3. Compare with scipy.stats ttest_rel\n",
    "#    ttest_rel(x, y) performs a paired t-test on arrays x and y\n",
    "t_stat_scipy, p_value_scipy = ttest_rel(before, after)"
   ]
  },
  {
   "cell_type": "code",
   "execution_count": 59,
   "id": "186f54ed-bd0c-4cf1-ad52-e587204f996f",
   "metadata": {},
   "outputs": [
    {
     "name": "stdout",
     "output_type": "stream",
     "text": [
      "---- Manual Calculation ----\n",
      "Differences (After - Before): [ 1 -4 -2  0 -1  3  2 -3 -5 -2]\n",
      "Mean of Differences: -1.100\n",
      "Std Dev of Differences: 2.601\n",
      "Paired t-statistic (manual): -1.337\n",
      "\n",
      "---- scipy.stats.ttest_rel ----\n",
      "Paired t-statistic: 1.337\n",
      "p-value:            0.214\n"
     ]
    }
   ],
   "source": [
    "# 4. Print results\n",
    "print(\"---- Manual Calculation ----\")\n",
    "print(f\"Differences (After - Before): {diff}\")\n",
    "print(f\"Mean of Differences: {mean_diff:.3f}\")\n",
    "print(f\"Std Dev of Differences: {std_diff:.3f}\")\n",
    "print(f\"Paired t-statistic (manual): {t_stat_manual:.3f}\")\n",
    "\n",
    "print(\"\\n---- scipy.stats.ttest_rel ----\")\n",
    "print(f\"Paired t-statistic: {t_stat_scipy:.3f}\")\n",
    "print(f\"p-value:            {p_value_scipy:.3f}\")"
   ]
  },
  {
   "cell_type": "markdown",
   "id": "b61ffd11-9bb6-4d93-a52b-c2df969816e7",
   "metadata": {},
   "source": [
    "### Discussion\n",
    "\n",
    "\n",
    "- **Differences Between Before and After**  \n",
    "  Each patient acts as their own control, so we compute the difference in heart rate for each individual. This approach reduces individual variability unrelated to the exercise programme.\n",
    "\n",
    "\n",
    "- **Mean Difference and Standard Deviation**  \n",
    "  - *Mean Difference*: Reflects the average change in resting heart rate across all patients.  \n",
    "  \n",
    "  - *Standard Deviation of Difference*: Measures how much individual changes vary around that mean difference.\n",
    "\n",
    "\n",
    "- **Paired t-Test**  \n",
    "  Since it’s the **same** group measured twice (before and after), we use a **paired t-test** formula: where is the number of participants. The null hypothesis states there is **no difference** in the mean resting heart rate before and after the programme.\n",
    "\n",
    "\n",
    "- **Comparing Manual and `scipy.stats` Results**  \n",
    "  - By computing the t-statistic manually, we verify our understanding of the underlying formula.  \n",
    "  - Using `ttest_rel(before, after)` in `scipy.stats` should yield a closely matching t-statistic. Minor discrepancies can arise from floating-point arithmetic."
   ]
  },
  {
   "cell_type": "markdown",
   "id": "c5dadbc5-44d0-4781-9fa1-03aab9f86a93",
   "metadata": {},
   "source": [
    "### Conclusion\n",
    "\n",
    "The manual calculation of the paired t-statistic matches closely with the result from `scipy.stats.ttest_rel`, confirming both the correctness of our approach and Python’s built-in function. Interpreting the t-statistic and p-value helps us decide whether the exercise programme had a **statistically significant** impact on resting heart rates."
   ]
  },
  {
   "cell_type": "markdown",
   "id": "0d8b2bcb-5d90-40c6-a1ac-64972ac82799",
   "metadata": {},
   "source": [
    "### References\n",
    "\n",
    "1. [Scipy Paired t-test Documentation](https://docs.scipy.org/doc/scipy/reference/generated/scipy.stats.ttest_rel.html)  \n",
    "2. OpenStax (n.d.). *Introductory Statistics.* Retrieved from [https://openstax.org/details/books/introductory-statistics](https://openstax.org/details/books/introductory-statistics)  "
   ]
  },
  {
   "cell_type": "markdown",
   "id": "a5da0183-40ff-4932-a56c-3954565eff1e",
   "metadata": {},
   "source": [
    "# 5. Task 4: ANOVA – Estimating Type II Error\n",
    "\n",
    "## **Problem Description**\n",
    "We wish to estimate how often **one-way ANOVA** fails to reject the null hypothesis (i.e., commits a **type II error**) under the following conditions:\n",
    "1. We run **10,000 simulations**.\n",
    "2. In each simulation, we generate three samples, each with:\n",
    "   - **100 observations**,\n",
    "   - **Mean values** of \\(4.9\\), \\(5.0\\), and \\(5.1\\),\n",
    "   - A **standard deviation** of \\(0.1\\).\n",
    "3. We then perform a **one-way ANOVA** on these three samples.\n",
    "4. If p_value >= 0.05, we fail to reject H0, we count it as a **type II error** because the means are truly different.\n",
    "\n",
    "Finally, we display:\n",
    "- The total number of **simulations**,\n",
    "- The number of **type II errors**,\n",
    "- And the **type II error rate** (as a percentage),\n",
    "- Along with a **histogram** of all observed p-values to illustrate how often ANOVA strongly rejects or fails to reject \\(H_0\\)."
   ]
  },
  {
   "cell_type": "code",
   "execution_count": 61,
   "id": "a58600ad-32c3-4134-b6fa-b1a33da81e65",
   "metadata": {},
   "outputs": [],
   "source": [
    "# ----------------------------\n",
    "# Task 4: ANOVA - Estimating Type II Error\n",
    "# ----------------------------\n",
    "import numpy as np\n",
    "import matplotlib.pyplot as plt\n",
    "from scipy.stats import f_oneway\n",
    "# Keep getting 0 Type II errors and struggling so adding in random seed; but I think this is expected?\n",
    "np.random.seed(42)"
   ]
  },
  {
   "cell_type": "code",
   "execution_count": 62,
   "id": "feb4888d-1731-4c40-a8b8-aa053da086be",
   "metadata": {},
   "outputs": [],
   "source": [
    "# 1. Define simulation parameters\n",
    "num_simulations = 10_000\n",
    "no_type_ii = 0\n",
    "# For graphing: store p-values to illustrate distribution\n",
    "all_p_values = []"
   ]
  },
  {
   "cell_type": "code",
   "execution_count": 63,
   "id": "006c914b-55d1-4468-a8ee-93449ef93246",
   "metadata": {},
   "outputs": [],
   "source": [
    "# 2. Run the simulation multiple times\n",
    "for _ in range(num_simulations):\n",
    "    # Generate three samples:\n",
    "    # Each has 100 observations, standard deviation = 0.1,\n",
    "    # and slightly different means (4.9, 5.0, 5.1).\n",
    "    sample1 = np.random.normal(loc=4.9, scale=0.1, size=100)\n",
    "    sample2 = np.random.normal(loc=5.0, scale=0.1, size=100)\n",
    "    sample3 = np.random.normal(loc=5.1, scale=0.1, size=100)\n",
    "    \n",
    "    # Perform one-way ANOVA using SciPy's f_oneway\n",
    "    f_stat, p_value = f_oneway(sample1, sample2, sample3)\n",
    "    \n",
    "    # Add p_value to our list so we can examine its distribution later\n",
    "    all_p_values.append(p_value)\n",
    "    \n",
    "    # If p_value >= 0.05, we fail to reject H0 despite the real difference\n",
    "    if p_value >= 0.05:\n",
    "        no_type_ii += 1"
   ]
  },
  {
   "cell_type": "code",
   "execution_count": 64,
   "id": "d50e8d14-ebeb-40b7-beb3-178b73d02a8b",
   "metadata": {},
   "outputs": [
    {
     "name": "stdout",
     "output_type": "stream",
     "text": [
      "Number of simulations: 10000\n",
      "Number of Type II errors: 0\n",
      "Estimated Type II Error Rate: 0.00%\n"
     ]
    }
   ],
   "source": [
    "# 3. Calculate the proportion of Type II errors\n",
    "type_ii_rate = (no_type_ii / num_simulations) * 100\n",
    "\n",
    "print(\"Number of simulations:\", num_simulations)\n",
    "print(\"Number of Type II errors:\", no_type_ii)\n",
    "print(f\"Estimated Type II Error Rate: {type_ii_rate:.2f}%\")"
   ]
  },
  {
   "cell_type": "code",
   "execution_count": 66,
   "id": "b503bc5f-50db-4605-8766-f71edfe5921c",
   "metadata": {},
   "outputs": [
    {
     "data": {
      "image/png": "[encoded data removed]",
      "text/plain": [
       "<Figure size 800x500 with 1 Axes>"
      ]
     },
     "metadata": {},
     "output_type": "display_data"
    }
   ],
   "source": [
    "# 4. Plot the distribution of p-values\n",
    "plt.figure(figsize=(8, 5))\n",
    "plt.hist(all_p_values, bins=30, color='skyblue', edgecolor='black')\n",
    "plt.title(\"Distribution of p-values in One-Way ANOVA\\n(Means=4.9,5.0,5.1; std=0.1; n=100)\")\n",
    "plt.xlabel(\"p-value\")\n",
    "plt.ylabel(\"Frequency\")\n",
    "plt.grid(alpha=0.3)\n",
    "plt.tight_layout()\n",
    "plt.show()"
   ]
  },
  {
   "cell_type": "markdown",
   "id": "ea1b3352-ba43-466c-8d26-38c777db469a",
   "metadata": {},
   "source": [
    "### Discussion\n",
    "\n",
    "1. **Why Might We See 0 Type II Errors?**  \n",
    "   - The difference between 4.9 and 5.1 is 0.2, while the standard deviation is only 0.1, leading to a fairly **large effect size** (≈2.0).\n",
    "   - With **100** observations in each group, ANOVA often has **sufficient power** to detect that difference in virtually all runs.\n",
    "   \n",
    "\n",
    "2. **Interpretation of the Histogram**  \n",
    "   - Most p-values will concentrate well below 0.05 if the test consistently detects the difference.  \n",
    "   - In rare cases (if any), we might see p-values above 0.05, signifying a type II error.\n",
    "   \n",
    "\n",
    "3. **Implication**  \n",
    "   - In practice, effect sizes may be smaller, or variability higher, which would increase the chance of missing a true difference.\n",
    "\n",
    "\n",
    "4. **If We Wanted Type II Errors**  \n",
    "   - We could reduce the effect size by bringing the group means closer (e.g. 4.95, 5.0, 5.05) or increase the standard deviation (e.g. 0.2 or 0.3).  \n",
    "   - Either change would make it harder to detect the difference, thus **increasing** the likelihood of type II errors.\n",
    "   \n",
    "\n",
    "5. **Practical Takeaway**  \n",
    "   - Seeing **0%** type II errors indicates my test is highly capable\n",
    "   - Adjusting the means or standard deviations can illustrate how ANOVA behaves with a weaker effect or more variation."
   ]
  },
  {
   "cell_type": "markdown",
   "id": "20dad456-9390-4e50-8f49-465706a37ade",
   "metadata": {},
   "source": [
    "### Conclusion\n",
    "Under the specific setup of:\n",
    "  - **Three groups** with means 4.9, 5.0, 5.1,\n",
    "  - **Standard deviation** = 0.1,\n",
    "  - **Sample size** = 100 per group,\n",
    "  \n",
    "the o**ne-way ANOVA** finds a **highly significant** difference. As a result, the **type II error rate** (the proportion of false negatives) is **very low (0%)** across 10,000 simulations. This demonstrates how a substantial effect size and adequate sample size can drastically reduce the probability of missing a genuine difference."
   ]
  },
  {
   "cell_type": "markdown",
   "id": "57898f7b-9e21-45ff-84e9-adf3e4daf4dd",
   "metadata": {},
   "source": [
    "### References\n",
    "\n",
    "1. Fisher, R. A. (1925). *Statistical Methods for Research Workers.* Oliver & Boyd.  \n",
    "2. [SciPy `f_oneway` Documentation](https://docs.scipy.org/doc/scipy/reference/generated/scipy.stats.f_oneway.html)  "
   ]
  }
 ],
 "metadata": {
  "kernelspec": {
   "display_name": "Python 3 (ipykernel)",
   "language": "python",
   "name": "python3"
  },
  "language_info": {
   "codemirror_mode": {
    "name": "ipython",
    "version": 3
   },
   "file_extension": ".py",
   "mimetype": "text/x-python",
   "name": "python",
   "nbconvert_exporter": "python",
   "pygments_lexer": "ipython3",
   "version": "3.12.7"
  }
 },
 "nbformat": 4,
 "nbformat_minor": 5
}
